{
 "cells": [
  {
   "cell_type": "markdown",
   "metadata": {},
   "source": [
    "Matt Johnescu"
   ]
  },
  {
   "cell_type": "markdown",
   "metadata": {},
   "source": [
    "Exercise 1: Basic Math Operations (2 points)\n",
    "\n",
    "Use the Python print function to perform basic calculations with four different math symbols. Provide four statements using addition, subtraction, multiplication, and division.\n",
    "\n",
    "Example: print(2+2)"
   ]
  },
  {
   "cell_type": "code",
   "execution_count": 14,
   "metadata": {},
   "outputs": [
    {
     "name": "stdout",
     "output_type": "stream",
     "text": [
      "4\n",
      "0\n",
      "16\n",
      "1.0\n"
     ]
    }
   ],
   "source": [
    "print(2+2)\n",
    "print(3-3)\n",
    "print(4*4)\n",
    "print(5/5)"
   ]
  },
  {
   "cell_type": "markdown",
   "metadata": {},
   "source": [
    "Exercise 2: Fruits in a Basket (2 points)\n",
    "\n",
    "Use the print function to display the names of four different fruits in one statement, such as \"peaches,\" \"grapes,\" \"mangoes,\" and \"strawberries.\""
   ]
  },
  {
   "cell_type": "code",
   "execution_count": 15,
   "metadata": {},
   "outputs": [
    {
     "name": "stdout",
     "output_type": "stream",
     "text": [
      "apple\n",
      "banana\n",
      "star fruit\n",
      "pineapple\n"
     ]
    }
   ],
   "source": [
    "print(\"apple\")\n",
    "print(\"banana\")\n",
    "print(\"star fruit\")\n",
    "print(\"pineapple\")"
   ]
  },
  {
   "cell_type": "markdown",
   "metadata": {},
   "source": [
    "Exercise 3: Greeting Message (2 points)\n",
    "\n",
    "Create two variables called your_first_name and your_last_name, and assign your first and last names to them, respectively. Using the print function in Python, display the following message in one line:\n",
    "\n",
    "Nice to meet you, I am YourFirstName YourLastName."
   ]
  },
  {
   "cell_type": "code",
   "execution_count": 16,
   "metadata": {},
   "outputs": [
    {
     "name": "stdout",
     "output_type": "stream",
     "text": [
      "Nice to meet you, I am Matt Johnescu .\n"
     ]
    }
   ],
   "source": [
    "your_first_name = \"Matt\"\n",
    "\n",
    "your_last_name = \"Johnescu\"\n",
    "\n",
    "print(\"Nice to meet you, I am\", your_first_name, your_last_name,\".\")\n"
   ]
  },
  {
   "cell_type": "markdown",
   "metadata": {},
   "source": [
    "Exercise 4: Area of a Rectangle (2 points)\n",
    "\n",
    "Create two variables to represent the length and width of a rectangle. Assign them any numerical values. Calculate the area of the rectangle (Area = length * width) and store the result in a third variable. Use the print function to display the area."
   ]
  },
  {
   "cell_type": "code",
   "execution_count": 17,
   "metadata": {},
   "outputs": [
    {
     "name": "stdout",
     "output_type": "stream",
     "text": [
      "20\n"
     ]
    }
   ],
   "source": [
    "length = 4\n",
    "\n",
    "width = 5 \n",
    "\n",
    "Area = length * width\n",
    "\n",
    "print(Area)\n"
   ]
  },
  {
   "cell_type": "markdown",
   "metadata": {},
   "source": [
    "Exercise 5: Pay Calculation with Hours and Minutes (2 points)\n",
    "\n",
    "Create two variables to hold values for hourly wage and minutes worked for a project.\n",
    "\n",
    "Assign hourly_wage = 22 and minutes_worked = 390.\n",
    "\n",
    "Calculate the total hours worked (note that 1 hour = 60 minutes) and then calculate the total pay.\n",
    "\n",
    "Using the print function, display the pay results with a dollar sign before the value. (For example, $126)"
   ]
  },
  {
   "cell_type": "code",
   "execution_count": 25,
   "metadata": {},
   "outputs": [
    {
     "name": "stdout",
     "output_type": "stream",
     "text": [
      "Final pay is $ 143.0\n"
     ]
    }
   ],
   "source": [
    "hourly_wage = 22\n",
    "\n",
    "minutes_worked = 390 \n",
    "\n",
    "hours_worked = minutes_worked / 60\n",
    "\n",
    "final_pay = hours_worked * hourly_wage\n",
    "\n",
    "print(\"Final pay is $\",final_pay)\n"
   ]
  }
 ],
 "metadata": {
  "kernelspec": {
   "display_name": "Python 3",
   "language": "python",
   "name": "python3"
  },
  "language_info": {
   "codemirror_mode": {
    "name": "ipython",
    "version": 3
   },
   "file_extension": ".py",
   "mimetype": "text/x-python",
   "name": "python",
   "nbconvert_exporter": "python",
   "pygments_lexer": "ipython3",
   "version": "3.12.0"
  }
 },
 "nbformat": 4,
 "nbformat_minor": 2
}
